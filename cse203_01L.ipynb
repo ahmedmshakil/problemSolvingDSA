{
  "nbformat": 4,
  "nbformat_minor": 0,
  "metadata": {
    "colab": {
      "provenance": [],
      "authorship_tag": "ABX9TyOopCCroQkWh5kQk8hXomyO",
      "include_colab_link": true
    },
    "kernelspec": {
      "name": "python3",
      "display_name": "Python 3"
    },
    "language_info": {
      "name": "python"
    }
  },
  "cells": [
    {
      "cell_type": "markdown",
      "metadata": {
        "id": "view-in-github",
        "colab_type": "text"
      },
      "source": [
        "<a href=\"https://colab.research.google.com/github/ahmedmshakil/problemSolvingDSA/blob/main/cse203_01L.ipynb\" target=\"_parent\"><img src=\"https://colab.research.google.com/assets/colab-badge.svg\" alt=\"Open In Colab\"/></a>"
      ]
    },
    {
      "cell_type": "markdown",
      "source": [
        "**Colab file for the 3rd class, Monday, 27/5/24**"
      ],
      "metadata": {
        "id": "x8HmCK-gjX_j"
      }
    },
    {
      "cell_type": "code",
      "execution_count": null,
      "metadata": {
        "id": "t9hubtmD6Ahc",
        "colab": {
          "base_uri": "https://localhost:8080/"
        },
        "outputId": "30177442-a522-4df2-ea77-0d415f92807c"
      },
      "outputs": [
        {
          "output_type": "stream",
          "name": "stdout",
          "text": [
            "hello , this is the colab file for ds-10\n"
          ]
        }
      ],
      "source": [
        "print(\"hello , this is the colab file for ds-10\")"
      ]
    },
    {
      "cell_type": "code",
      "source": [
        "i = 0\n",
        "while i< 10:\n",
        "  print(i)\n",
        "  continue"
      ],
      "metadata": {
        "id": "c6NW5AvNh2QR"
      },
      "execution_count": null,
      "outputs": []
    },
    {
      "cell_type": "code",
      "source": [
        "for i in range(10):\n",
        "  if i % 2:\n",
        "    continue\n",
        "  print(i)\n",
        "  i +=1\n"
      ],
      "metadata": {
        "colab": {
          "base_uri": "https://localhost:8080/"
        },
        "id": "ISBJY8QYhj0G",
        "outputId": "408edecf-e992-4c49-b1bb-168e06bcfb7f"
      },
      "execution_count": null,
      "outputs": [
        {
          "output_type": "stream",
          "name": "stdout",
          "text": [
            "0\n",
            "2\n",
            "4\n",
            "6\n",
            "8\n"
          ]
        }
      ]
    },
    {
      "cell_type": "code",
      "source": [
        "for i in range(5):\n",
        "  for i in range(5):\n",
        "    print('*', end = ' ')\n",
        "  print()"
      ],
      "metadata": {
        "colab": {
          "base_uri": "https://localhost:8080/"
        },
        "id": "miukQGzdjExv",
        "outputId": "8c1def18-02ca-424b-dff5-10cb349a4003"
      },
      "execution_count": null,
      "outputs": [
        {
          "output_type": "stream",
          "name": "stdout",
          "text": [
            "* * * * * \n",
            "* * * * * \n",
            "* * * * * \n",
            "* * * * * \n",
            "* * * * * \n"
          ]
        }
      ]
    },
    {
      "cell_type": "markdown",
      "source": [
        "**Concept of oop , how class work and method work**\n",
        "\n",
        "- field\n",
        "- attribute\n",
        "- property\n",
        "\n",
        "class is a design , object is a method\n",
        "reference is actual veriable that we use in a class\n",
        " int{ } , its a class\n",
        " a=10\n",
        " b=10\n",
        " c=a\n",
        "\n",
        " where 10 is the object and a,b,c is the reference\n",
        "\n",
        " object is always unique but reference may not be unique\n",
        "\n",
        " #cpython and jpython\n",
        "\n",
        " #reference learning form pythontutor.com\n",
        "\n",
        " mid question\n",
        " 1. basic python , a. output tracing b. modify -10 marks\n",
        " 2. linked list - 10 marks\n",
        " 3. stake queue - 10 marks\n",
        "\n",
        " we working more on reference over object.\n",
        "\n",
        "\n",
        "\n"
      ],
      "metadata": {
        "id": "YR_-PImClKvM"
      }
    },
    {
      "cell_type": "code",
      "source": [
        "class info:\n",
        "  pass"
      ],
      "metadata": {
        "id": "24wl-e20jj3u"
      },
      "execution_count": null,
      "outputs": []
    },
    {
      "cell_type": "code",
      "source": [
        "a = info() # its a class\n",
        "a.name = 'shakil'\n",
        "a. dept = \"CSE\""
      ],
      "metadata": {
        "id": "_xO7rBdUjj0Z"
      },
      "execution_count": null,
      "outputs": []
    },
    {
      "cell_type": "code",
      "source": [
        "print(a.name, a.dept)"
      ],
      "metadata": {
        "colab": {
          "base_uri": "https://localhost:8080/"
        },
        "id": "jzJDVhLvjjxJ",
        "outputId": "2b6c8fa6-66b3-4642-d87a-5ee68d627ca2"
      },
      "execution_count": null,
      "outputs": [
        {
          "output_type": "stream",
          "name": "stdout",
          "text": [
            "shakil CSE\n"
          ]
        }
      ]
    },
    {
      "cell_type": "code",
      "source": [
        "class info:\n",
        "  def __init__(self, name, dept)\n"
      ],
      "metadata": {
        "id": "BkL44waBjjta"
      },
      "execution_count": null,
      "outputs": []
    },
    {
      "cell_type": "markdown",
      "source": [
        "# 1. write a program to determine whether a given number is a prime or not.\n",
        "\n",
        "  Example:\n",
        "      - 5 -> Prime\n",
        "      - 39 -> Not Prime\n",
        "2. Write a program that lists all factor of a given number seperated by a comma.\n",
        "\n",
        "  Example:\n",
        "     - 12 -> 1, 2, 3, 4, 6, 12\n",
        "     - 17 -> 1, 17"
      ],
      "metadata": {
        "id": "okED5VuW3zct"
      }
    },
    {
      "cell_type": "code",
      "source": [
        "number = int(input(\"Enter the number: \"))\n",
        "\n",
        "def check_prime(number):\n",
        "    if number <= 1:\n",
        "        return False\n",
        "    for i in range ()"
      ],
      "metadata": {
        "id": "telujqAEjjV2"
      },
      "execution_count": null,
      "outputs": []
    },
    {
      "cell_type": "code",
      "source": [
        "def is_prime(number):\n",
        "    if number <= 1:\n",
        "        return False\n",
        "    for i in range(2, int(number**0.5) + 1):\n",
        "        if number % i == 0:\n",
        "            return False\n",
        "    return True\n",
        "\n",
        "number = int(input(\"Enter a number: \"))\n",
        "\n",
        "if is_prime(number):\n",
        "    print(f\"{number} -> Prime\")\n",
        "else:\n",
        "    print(f\"{number} -> Not Prime\")\n"
      ],
      "metadata": {
        "colab": {
          "base_uri": "https://localhost:8080/"
        },
        "id": "6ch2J_jM6CZp",
        "outputId": "a7f02113-9b5c-4ecc-9083-d52fbf5ab0ad"
      },
      "execution_count": null,
      "outputs": [
        {
          "output_type": "stream",
          "name": "stdout",
          "text": [
            "Enter a number: 39\n",
            "39 -> Not Prime\n"
          ]
        }
      ]
    },
    {
      "cell_type": "code",
      "source": [
        "def list_factors(number):\n",
        "    factors = []\n",
        "    for i in range(1, number + 1):\n",
        "        if number % i == 0:\n",
        "            factors.append(i)\n",
        "    return factors\n",
        "\n",
        "# Example numbers to list factors\n",
        "numbers = []\n",
        "\n",
        "# Iterate through the example numbers and print their factors\n",
        "for num in numbers:\n",
        "    factors = list_factors(num)\n",
        "    print(f\"{num} -> {', '.join(map(str, factors))}\")\n"
      ],
      "metadata": {
        "colab": {
          "base_uri": "https://localhost:8080/"
        },
        "id": "Xd9RIOcp6hku",
        "outputId": "84e4990e-aa2d-4f62-de60-f96ac8a2d62f"
      },
      "execution_count": null,
      "outputs": [
        {
          "output_type": "stream",
          "name": "stdout",
          "text": [
            "12 -> , \n"
          ]
        }
      ]
    },
    {
      "cell_type": "code",
      "source": [
        "def print_factors(x):\n",
        "   print(\"The factors of\",x,\"are:\")\n",
        "   for i in range(1, x + 1):\n",
        "       if x % i == 0:\n",
        "           print(i)\n",
        "\n",
        "num = 320\n",
        "\n",
        "print_factors(num)\n",
        "def list_factors(number):\n",
        "    factors = []\n",
        "    for i in range(1, number + 1):\n",
        "        if number % i == 0:\n",
        "            factors.append(i)\n",
        "    return factors\n",
        "\n",
        "# Input from the user\n",
        "num = int(input(\"Enter a number to list its factors: \"))\n",
        "\n",
        "# Get the list of factors\n",
        "factors = list_factors(num)\n",
        "\n",
        "# Print the factors separated by a comma\n",
        "print(f\"{num} -> {', '.join(map(str, factors))}\")\n"
      ],
      "metadata": {
        "id": "NOwRfvxL-Ga9"
      },
      "execution_count": null,
      "outputs": []
    },
    {
      "cell_type": "code",
      "source": [
        "def list_factors(number):\n",
        "    factors = []\n",
        "    for i in range(1, number + 1):\n",
        "        if number % i == 0:\n",
        "            factors.append(i)\n",
        "    return factors\n",
        "\n",
        "\n",
        "num = int(input(\"Enter a number: \"))\n",
        "\n",
        "\n",
        "factors = list_factors(num)\n",
        "\n",
        "\n",
        "print(f\"{num} -> {', '.join(map(str, factors))}\")\n"
      ],
      "metadata": {
        "id": "e5wAaUy--WiO"
      },
      "execution_count": null,
      "outputs": []
    },
    {
      "cell_type": "code",
      "source": [
        "n = int(input())\n",
        "\n",
        "isPrime True\n",
        "\n",
        "if n == 1:\n",
        "  isPrime False\n",
        "else:\n",
        "  for i in range (2, n)\n",
        "      if n % i == 0:\n",
        "\n",
        "if n = 1:\n",
        "        return False\n",
        "    for i in range(2, n):\n",
        "        if n % i == 0:\n",
        "            return False\n",
        "    return True\n",
        "\n"
      ],
      "metadata": {
        "id": "1BX2a1jZClzA"
      },
      "execution_count": null,
      "outputs": []
    },
    {
      "cell_type": "code",
      "source": [
        "num = int(input())\n",
        "def is_prime(n, i=2):\n",
        "    if n <= 2:\n",
        "        return n == 2\n",
        "    if n % i == 0:\n",
        "        return False\n",
        "    if i * i > n:\n",
        "        return True\n",
        "    return is_prime(n, i + 1)\n",
        "\n",
        "if is_prime(num):\n",
        "    print(\"Prime\")\n",
        "else:\n",
        "    print(\"Not Prime\")"
      ],
      "metadata": {
        "colab": {
          "base_uri": "https://localhost:8080/"
        },
        "id": "3MlBGwkMGWc6",
        "outputId": "b5860324-e584-435e-a1d5-bc960b42a049"
      },
      "execution_count": null,
      "outputs": [
        {
          "output_type": "stream",
          "name": "stdout",
          "text": [
            "19\n",
            "Prime\n"
          ]
        }
      ]
    },
    {
      "cell_type": "markdown",
      "source": [
        "**29th May, 2024**\n",
        "Ds Theory\n"
      ],
      "metadata": {
        "id": "PIqRHSaizDyP"
      }
    },
    {
      "cell_type": "code",
      "source": [
        "n = int(input())\n",
        "\n",
        "for i in range(n):\n",
        "  for j in range(n):\n",
        "    if i >= j :\n",
        "      print('*' , end = ' ')\n",
        "    else:\n",
        "      print(' ', end = ' ')\n",
        "\n",
        "\n",
        "  print()\n",
        "\n"
      ],
      "metadata": {
        "colab": {
          "base_uri": "https://localhost:8080/"
        },
        "id": "kxEnab3NzBXk",
        "outputId": "8aea24c0-8ec4-4f34-af95-3254813c9fad"
      },
      "execution_count": null,
      "outputs": [
        {
          "output_type": "stream",
          "name": "stdout",
          "text": [
            "5\n",
            "*         \n",
            "* *       \n",
            "* * *     \n",
            "* * * *   \n",
            "* * * * * \n"
          ]
        }
      ]
    },
    {
      "cell_type": "code",
      "source": [
        "#2\n",
        "def all_even():\n",
        "  for item in list:\n",
        "    if item % 2 != 0:\n",
        "          return Flase\n",
        "    return True"
      ],
      "metadata": {
        "id": "8gWUHXJL7UCz"
      },
      "execution_count": null,
      "outputs": []
    },
    {
      "cell_type": "markdown",
      "source": [
        "**student enrolled in a course**"
      ],
      "metadata": {
        "id": "D4ZMn9uL-7TM"
      }
    },
    {
      "cell_type": "code",
      "source": [
        "class course:\n",
        "  def __init__(self, course_id, credits, grade_point = 0.0):\n",
        "    self.course_id = course_id\n",
        "    self.credits = credits\n",
        "    self.grade_point = grade_point\n",
        "    self. is_complete = False\n",
        "\n",
        "\n",
        "  def __str__(self):\n",
        "    return f\"course({self.course_id} - {self.credits} - {self.grade_point} - {self.is_complete})\""
      ],
      "metadata": {
        "id": "ms1sSUHX8iav"
      },
      "execution_count": null,
      "outputs": []
    },
    {
      "cell_type": "code",
      "source": [
        "class student:\n",
        "  def __init__(self, id, name):\n",
        "    self.id = id\n",
        "    self.name = name\n",
        "    self.courses = []\n"
      ],
      "metadata": {
        "id": "fTBdf6X67t3d"
      },
      "execution_count": null,
      "outputs": []
    },
    {
      "cell_type": "code",
      "source": [
        "s1 = student('2120290', 'shakil')"
      ],
      "metadata": {
        "id": "wH8TBa_E8VhS"
      },
      "execution_count": null,
      "outputs": []
    },
    {
      "cell_type": "code",
      "source": [
        "c1 = course('cse203', '4')"
      ],
      "metadata": {
        "id": "FFtWDs_49Nda"
      },
      "execution_count": null,
      "outputs": []
    },
    {
      "cell_type": "code",
      "source": [
        "s1.courses.append(c1)"
      ],
      "metadata": {
        "id": "uI1MvKHt9T1e"
      },
      "execution_count": null,
      "outputs": []
    },
    {
      "cell_type": "code",
      "source": [
        "c1.grade_point = 3.7\n",
        "c1.is_complete = True\n"
      ],
      "metadata": {
        "id": "1NrwZlnB9YoM"
      },
      "execution_count": null,
      "outputs": []
    },
    {
      "cell_type": "code",
      "source": [
        "print(s1.courses[0])"
      ],
      "metadata": {
        "colab": {
          "base_uri": "https://localhost:8080/"
        },
        "id": "Mxg4rkfj9ivv",
        "outputId": "9e2a2cf2-7e6d-4b62-fe6f-dc4b5fdbf2aa"
      },
      "execution_count": null,
      "outputs": [
        {
          "output_type": "stream",
          "name": "stdout",
          "text": [
            "course(cse203 - 4 - 3.7 - True)\n"
          ]
        }
      ]
    },
    {
      "cell_type": "markdown",
      "source": [
        "- shallow copy\n",
        "- reference copy (python or modern language use the referencewhat is copy)"
      ],
      "metadata": {
        "id": "0ZRfotLBANfh"
      }
    },
    {
      "cell_type": "markdown",
      "source": [],
      "metadata": {
        "id": "-thFzbFdAM_G"
      }
    }
  ]
}